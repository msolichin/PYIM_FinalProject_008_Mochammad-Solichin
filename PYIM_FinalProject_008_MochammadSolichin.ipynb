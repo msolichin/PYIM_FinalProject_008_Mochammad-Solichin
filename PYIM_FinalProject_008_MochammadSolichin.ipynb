{
  "nbformat": 4,
  "nbformat_minor": 0,
  "metadata": {
    "colab": {
      "name": "PYIM_FinalProject_008_MochammadSolichin.ipynb",
      "private_outputs": true,
      "provenance": [],
      "collapsed_sections": []
    },
    "kernelspec": {
      "name": "python3",
      "display_name": "Python 3"
    },
    "language_info": {
      "name": "python"
    },
    "accelerator": "GPU"
  },
  "cells": [
    {
      "cell_type": "markdown",
      "metadata": {
        "id": "hURQ_KU9qhmv"
      },
      "source": [
        "## Pengenalan\n",
        "\n",
        "##### Final project kali ini saya ingin mengambil topik Image Classification, yaitu ingin memprediksi antara gambar kendaraan atau bukan kendaraan.\n",
        "\n",
        "##### Dataset yang digunakan diambil dari kaggle, ada sekitar 17.ooo gambar dengan format png (64x64x3).\n",
        "\n",
        "##### Ada 2 label/kelas, yaitu non-vehicles dan vehicles."
      ]
    },
    {
      "cell_type": "markdown",
      "metadata": {
        "id": "zK-8GAWNsjau"
      },
      "source": [
        "## Import Pustaka\n",
        "\n",
        "##### Deep learning framework yang digunakan adalah TensorFlow, jadi pustaka yang saya import adalah TensorFlow."
      ]
    },
    {
      "cell_type": "code",
      "metadata": {
        "id": "8T9f2ZXzDZAH"
      },
      "source": [
        "import tensorflow as tf\n",
        "from tensorflow import keras\n",
        "from tensorflow.keras import layers"
      ],
      "execution_count": null,
      "outputs": []
    },
    {
      "cell_type": "markdown",
      "metadata": {
        "id": "4K_q4FbZtGY1"
      },
      "source": [
        "## Data Loading\n",
        "\n",
        "##### Pertama, saya download datanya terlebih dahulu di kaggle: https://www.kaggle.com/brsdincer/vehicle-detection-image-set\n",
        "\n",
        "##### Kedua, saya masukan data ke dalam google drie saya: https://drive.google.com/file/d/12tOThhpWgxuaR4Ism9Y_XbYsl7KeqdiC/view?usp=sharing\n",
        "\n",
        "##### Lalu saya mount google drive dan load dataset tersebut. Data harus di download terlebih dahulu (gunakan salah satu link di atas)."
      ]
    },
    {
      "cell_type": "code",
      "metadata": {
        "id": "BUZUye09EUex"
      },
      "source": [
        "from google.colab import drive\n",
        "drive.mount('/content/drive')"
      ],
      "execution_count": null,
      "outputs": []
    },
    {
      "cell_type": "code",
      "metadata": {
        "id": "KWExjO5yax88"
      },
      "source": [
        "!unzip /content/drive/MyDrive/data.zip"
      ],
      "execution_count": null,
      "outputs": []
    },
    {
      "cell_type": "markdown",
      "metadata": {
        "id": "pkHZ6pc5xELI"
      },
      "source": [
        "##### Di dalam folder data, terdapat 2 subfolder yaitu non-vehicles dan vehicles"
      ]
    },
    {
      "cell_type": "code",
      "metadata": {
        "id": "VpSYhXCEbyrE"
      },
      "source": [
        "!ls data"
      ],
      "execution_count": null,
      "outputs": []
    },
    {
      "cell_type": "markdown",
      "metadata": {
        "id": "5vJ6LG5jxRuI"
      },
      "source": [
        "## Generate Dataset\n",
        "\n",
        "##### Data Preprocessing, pembagian data menjadi train dan val."
      ]
    },
    {
      "cell_type": "code",
      "metadata": {
        "id": "_IN-RqH4b6YU"
      },
      "source": [
        "image_size = (180, 180)\n",
        "batch_size = 32\n",
        "\n",
        "train_ds = tf.keras.preprocessing.image_dataset_from_directory(\n",
        "    \"data\",\n",
        "    validation_split=0.2,\n",
        "    subset=\"training\",\n",
        "    seed=1337,\n",
        "    image_size=image_size,\n",
        "    batch_size=batch_size,\n",
        ")\n",
        "val_ds = tf.keras.preprocessing.image_dataset_from_directory(\n",
        "    \"data\",\n",
        "    validation_split=0.2,\n",
        "    subset=\"validation\",\n",
        "    seed=1337,\n",
        "    image_size=image_size,\n",
        "    batch_size=batch_size,\n",
        ")"
      ],
      "execution_count": null,
      "outputs": []
    },
    {
      "cell_type": "markdown",
      "metadata": {
        "id": "rw_rCSqYxZ-S"
      },
      "source": [
        "## Visualisasi Dataset\n",
        "\n",
        "##### Dengan menggunakan pustaka matplotlib untuk memvisualisasikan dataset.\n",
        "##### Label 0 untuk \"non-vehicles\"\n",
        "##### Label 1 untuk \"vehicles\""
      ]
    },
    {
      "cell_type": "code",
      "metadata": {
        "id": "MNP2Ezg2cyad"
      },
      "source": [
        "import matplotlib.pyplot as plt\n",
        "\n",
        "plt.figure(figsize=(10, 10))\n",
        "for images, labels in train_ds.take(1):\n",
        "    for i in range(9):\n",
        "        ax = plt.subplot(3, 3, i + 1)\n",
        "        plt.imshow(images[i].numpy().astype(\"uint8\"))\n",
        "        plt.title(int(labels[i]))\n",
        "        plt.axis(\"off\")"
      ],
      "execution_count": null,
      "outputs": []
    },
    {
      "cell_type": "markdown",
      "metadata": {
        "id": "uqr4fG0vydjO"
      },
      "source": [
        "## Data Preprocessing\n",
        "\n",
        "##### Penggunaan data augmentation untuk dataset yang tidak terlalu besar."
      ]
    },
    {
      "cell_type": "code",
      "metadata": {
        "id": "zQ3-0BUoc72s"
      },
      "source": [
        "data_augmentation = keras.Sequential(\n",
        "    [\n",
        "        layers.experimental.preprocessing.RandomFlip(\"horizontal\"),\n",
        "        layers.experimental.preprocessing.RandomRotation(0.1),\n",
        "    ]\n",
        ")"
      ],
      "execution_count": null,
      "outputs": []
    },
    {
      "cell_type": "code",
      "metadata": {
        "id": "DQrDZIYRdBrs"
      },
      "source": [
        "plt.figure(figsize=(10, 10))\n",
        "for images, _ in train_ds.take(1):\n",
        "    for i in range(9):\n",
        "        augmented_images = data_augmentation(images)\n",
        "        ax = plt.subplot(3, 3, i + 1)\n",
        "        plt.imshow(augmented_images[0].numpy().astype(\"uint8\"))\n",
        "        plt.axis(\"off\")"
      ],
      "execution_count": null,
      "outputs": []
    },
    {
      "cell_type": "markdown",
      "metadata": {
        "id": "e910LZ2Ny6WP"
      },
      "source": [
        "##### Konfigurasi dataset untuk performance."
      ]
    },
    {
      "cell_type": "code",
      "metadata": {
        "id": "6e-Knl-EdG68"
      },
      "source": [
        "train_ds = train_ds.prefetch(buffer_size=32)\n",
        "val_ds = val_ds.prefetch(buffer_size=32)"
      ],
      "execution_count": null,
      "outputs": []
    },
    {
      "cell_type": "markdown",
      "metadata": {
        "id": "s8gYIX4hzRBG"
      },
      "source": [
        "## Pendefinisian model\n",
        "\n",
        "##### Model dimulai dengan data preprocessiong, yaitu data augmentation diikuti dengan rescaling layer."
      ]
    },
    {
      "cell_type": "code",
      "metadata": {
        "id": "SaZgXBsLeisL"
      },
      "source": [
        "def make_model(input_shape, num_classes):\n",
        "    inputs = keras.Input(shape=input_shape)\n",
        "    # Image augmentation block\n",
        "    x = data_augmentation(inputs)\n",
        "\n",
        "    # Entry block\n",
        "    x = layers.experimental.preprocessing.Rescaling(1.0 / 255)(x)\n",
        "    x = layers.Conv2D(32, 3, strides=2, padding=\"same\")(x)\n",
        "    x = layers.BatchNormalization()(x)\n",
        "    x = layers.Activation(\"relu\")(x)\n",
        "\n",
        "    x = layers.Conv2D(64, 3, padding=\"same\")(x)\n",
        "    x = layers.BatchNormalization()(x)\n",
        "    x = layers.Activation(\"relu\")(x)\n",
        "\n",
        "    previous_block_activation = x  # Set aside residual\n",
        "\n",
        "    for size in [128, 256, 512, 728]:\n",
        "        x = layers.Activation(\"relu\")(x)\n",
        "        x = layers.SeparableConv2D(size, 3, padding=\"same\")(x)\n",
        "        x = layers.BatchNormalization()(x)\n",
        "\n",
        "        x = layers.Activation(\"relu\")(x)\n",
        "        x = layers.SeparableConv2D(size, 3, padding=\"same\")(x)\n",
        "        x = layers.BatchNormalization()(x)\n",
        "\n",
        "        x = layers.MaxPooling2D(3, strides=2, padding=\"same\")(x)\n",
        "\n",
        "        # Project residual\n",
        "        residual = layers.Conv2D(size, 1, strides=2, padding=\"same\")(\n",
        "            previous_block_activation\n",
        "        )\n",
        "        x = layers.add([x, residual])  # Add back residual\n",
        "        previous_block_activation = x  # Set aside next residual\n",
        "\n",
        "    x = layers.SeparableConv2D(1024, 3, padding=\"same\")(x)\n",
        "    x = layers.BatchNormalization()(x)\n",
        "    x = layers.Activation(\"relu\")(x)\n",
        "\n",
        "    x = layers.GlobalAveragePooling2D()(x)\n",
        "    if num_classes == 2:\n",
        "        activation = \"sigmoid\"\n",
        "        units = 1\n",
        "    else:\n",
        "        activation = \"softmax\"\n",
        "        units = num_classes\n",
        "\n",
        "    x = layers.Dropout(0.5)(x)\n",
        "    outputs = layers.Dense(units, activation=activation)(x)\n",
        "    return keras.Model(inputs, outputs)\n",
        "\n",
        "\n",
        "model = make_model(input_shape=image_size + (3,), num_classes=2)\n",
        "keras.utils.plot_model(model, show_shapes=True)"
      ],
      "execution_count": null,
      "outputs": []
    },
    {
      "cell_type": "markdown",
      "metadata": {
        "id": "Z2zbamjizue3"
      },
      "source": [
        "## Pelatihan Model"
      ]
    },
    {
      "cell_type": "code",
      "metadata": {
        "id": "BGqXJDumel1D"
      },
      "source": [
        "epochs = 15\n",
        "\n",
        "callbacks = [\n",
        "    keras.callbacks.ModelCheckpoint(\"save_at_{epoch}.h5\"),\n",
        "]\n",
        "model.compile(\n",
        "    optimizer=keras.optimizers.Adam(1e-3),\n",
        "    loss=\"binary_crossentropy\",\n",
        "    metrics=[\"accuracy\"],\n",
        ")\n",
        "r = model.fit(\n",
        "    train_ds, epochs=epochs, callbacks=callbacks, validation_data=val_ds,\n",
        ")"
      ],
      "execution_count": null,
      "outputs": []
    },
    {
      "cell_type": "markdown",
      "metadata": {
        "id": "HT6T_wyQz15v"
      },
      "source": [
        "## Evaluasi Model"
      ]
    },
    {
      "cell_type": "code",
      "metadata": {
        "id": "CHsFPC3he3XD"
      },
      "source": [
        "plt.plot(r.history['loss'])\n",
        "plt.plot(r.history['val_loss'])"
      ],
      "execution_count": null,
      "outputs": []
    },
    {
      "cell_type": "code",
      "metadata": {
        "id": "rLsqlHqdvbiq"
      },
      "source": [
        "plt.plot(r.history['accuracy'])\n",
        "plt.plot(r.history['val_accuracy'])"
      ],
      "execution_count": null,
      "outputs": []
    },
    {
      "cell_type": "markdown",
      "metadata": {
        "id": "Ud_vwVM5z6ok"
      },
      "source": [
        "## Model Inference"
      ]
    },
    {
      "cell_type": "code",
      "metadata": {
        "id": "q_3mu9NI-ZJV"
      },
      "source": [
        "img = keras.preprocessing.image.load_img(\n",
        "    \"data/vehicles/5000.png\", target_size=image_size\n",
        ")\n",
        "img_array = keras.preprocessing.image.img_to_array(img)\n",
        "img_array = tf.expand_dims(img_array, 0)  # Create batch axis\n",
        "\n",
        "predictions = model.predict(img_array)\n",
        "score = predictions[0]\n",
        "print(\n",
        "    \"This image is %.2f percent non-vehicles and %.2f percent vehicles.\"\n",
        "    % (100 * (1 - score), 100 * score)\n",
        ")"
      ],
      "execution_count": null,
      "outputs": []
    },
    {
      "cell_type": "markdown",
      "metadata": {
        "id": "lkXEvox40X-n"
      },
      "source": [
        "## Kesimpulan\n",
        "\n",
        "##### Di sini kita menemukan bahwa model bekerja cukup baik dengan akurasi sekitar 99%. Jadi model ini tepat untuk mengidentifikasi kendaraan."
      ]
    },
    {
      "cell_type": "code",
      "metadata": {
        "id": "ard17bi70ls8"
      },
      "source": [
        ""
      ],
      "execution_count": null,
      "outputs": []
    }
  ]
}